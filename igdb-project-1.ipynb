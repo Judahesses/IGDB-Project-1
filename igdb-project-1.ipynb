{
 "cells": [
  {
   "cell_type": "code",
   "execution_count": 28,
   "metadata": {},
   "outputs": [],
   "source": [
    "import requests\n",
    "import re\n",
    "import pandas as pd\n",
    "import matplotlib.pyplot as plt\n",
    "from datetime import datetime"
   ]
  },
  {
   "cell_type": "code",
   "execution_count": 29,
   "metadata": {
    "scrolled": true
   },
   "outputs": [],
   "source": [
    "file = open('./.env')\n",
    "api = file.read()"
   ]
  },
  {
   "cell_type": "code",
   "execution_count": 47,
   "metadata": {},
   "outputs": [],
   "source": [
    "def search_igdb(n): \n",
    "  \n",
    "    #set up an empty list to append each API call\n",
    "    output = []\n",
    "    url = 'https://api-v3.igdb.com/games/?limit=50'\n",
    "    #establish URL and api_key\n",
    "    headers = {\n",
    "    'user-key': api,\n",
    "    'accept': 'application/json'\n",
    "     }\n",
    "    #loops through a list of n length and updates offset after each call\n",
    "    for i in list(range(n)): \n",
    "        offset = 0\n",
    "        offset += 50*i \n",
    "        url_params = {\n",
    "            'fields':'name, total_rating_count, total_rating, rating_count, rating, popularity, aggregated_rating, aggregated_rating_count, themes, platforms, first_release_date, player_perspectives, hypes, game_modes, game_engines, genres', \n",
    "            #'filter[release_dates.platform][any]': '48,49,6',\n",
    "            'filter[total_rating_count][gte]': '150',\n",
    "            'filter[rating_count][gte]': '100',\n",
    "            'filter[aggregated_rating_count][gte]': '10',\n",
    "            'offset': offset\n",
    "      \n",
    "      \n",
    "      \n",
    "    #         'filter'= filter[release_dates.platform][any] = 48,49,6\n",
    "    #         'filter'= filter[total_rating_count][gte] = 1\n",
    "          }\n",
    "        #fields=*&filter[release_dates.platform][any]=48,49,6\n",
    "    \n",
    "    \n",
    "        response = requests.get(url, headers=headers, params=url_params)\n",
    "        #run our request get requests\n",
    "    \n",
    "  \n",
    "    \n",
    "        list(filter(lambda x: output.append(x), response.json()))\n",
    "     #and \n",
    "  \n",
    "    return output\n"
   ]
  },
  {
   "cell_type": "code",
   "execution_count": 48,
   "metadata": {},
   "outputs": [],
   "source": [
    "video_games = search_igdb(4)\n",
    "df = pd.DataFrame(video_games)"
   ]
  },
  {
   "cell_type": "code",
   "execution_count": 49,
   "metadata": {},
   "outputs": [],
   "source": [
    "# sort the games by the highest rating \n",
    "df = df.sort_values('total_rating', ascending=False)"
   ]
  },
  {
   "cell_type": "code",
   "execution_count": 50,
   "metadata": {},
   "outputs": [],
   "source": [
    "# change the index of the DataFrame to the name of the game\n",
    "df = df.set_index('name')"
   ]
  },
  {
   "cell_type": "code",
   "execution_count": 51,
   "metadata": {},
   "outputs": [],
   "source": [
    "# drop the column with the game 'IDs'\n",
    "df = df.drop(['id'], axis=1)"
   ]
  },
  {
   "cell_type": "code",
   "execution_count": 52,
   "metadata": {},
   "outputs": [],
   "source": [
    "# changing column names\n",
    "df = df.rename(columns={'aggregated_rating':'critic_review_rating'})\n",
    "df = df.rename(columns={'aggregated_rating_count':'critic_review_count'})\n",
    "df = df.rename(columns={'first_release_date':'release_date'})\n",
    "df = df.rename(columns={'rating':'player_review_rating'})\n",
    "df = df.rename(columns={'rating_count':'player_review_rating_count'})\n",
    "df = df.rename(columns={'total_rating':'total_review_rating'})\n",
    "df = df.rename(columns={'total_rating_count':'total_review_rating_count'})"
   ]
  },
  {
   "cell_type": "code",
   "execution_count": 53,
   "metadata": {},
   "outputs": [],
   "source": [
    "# replace all na values with an empty string ''\n",
    "df = df.fillna('')"
   ]
  },
  {
   "cell_type": "code",
   "execution_count": 72,
   "metadata": {},
   "outputs": [],
   "source": [
    "# getting codes for each column \n",
    "\n",
    "platforms_codes = list(df['platforms'])\n",
    "game_engines_codes = list(df['game_engines'])\n",
    "player_perspectives_codes = list(df['player_perspectives'])\n",
    "game_modes_codes = list(df['game_modes'])\n",
    "themes_codes = list(df['themes'])\n",
    "genres_codes = list(df['genres'])\n",
    "\n",
    "def unique_column_set(column):\n",
    "    unique_letters = [] \n",
    "    for letters in column:\n",
    "        for letter in letters:\n",
    "            if letters != '':\n",
    "                unique_letters.append(letter)\n",
    "    return set(unique_letters)\n",
    "\n",
    "unique_platforms_codes = unique_column_set(platforms_codes)\n",
    "unique_game_engines_codes = unique_column_set(game_engines_codes)\n",
    "unique_player_perspectives_codes = unique_column_set(player_perspectives_codes)\n",
    "unique_game_modes_codes = unique_column_set(game_modes_codes)\n",
    "unique_themes_codes = unique_column_set(themes_codes)\n",
    "unique_genres_codes = unique_column_set(genres_codes)"
   ]
  },
  {
   "cell_type": "code",
   "execution_count": 41,
   "metadata": {},
   "outputs": [
    {
     "data": {
      "text/plain": [
       "171"
      ]
     },
     "execution_count": 41,
     "metadata": {},
     "output_type": "execute_result"
    }
   ],
   "source": [
    "# getting all the values for release_dates in a unique set\n",
    "\n",
    "unix_codes = list(df['release_date'])\n",
    "\n",
    "def unique_release_set(lst):\n",
    "    unique_dates = [] \n",
    "    for date in lst:\n",
    "                unique_dates.append(date)\n",
    "    return set(unique_dates)\n",
    "\n",
    "unique_release_codes = unique_release_set(unix_codes)\n",
    "len(unique_release_codes)"
   ]
  },
  {
   "cell_type": "code",
   "execution_count": 42,
   "metadata": {},
   "outputs": [],
   "source": [
    "# converting epoch to human readable date\n",
    "df['release_date'] = pd.to_datetime(df['release_date'], unit='s')"
   ]
  },
  {
   "cell_type": "code",
   "execution_count": 43,
   "metadata": {},
   "outputs": [],
   "source": [
    "# creating a new column called year which displays just the year the game released in standart date time\n",
    "df['release_year'] = df['release_date'].dt.year"
   ]
  },
  {
   "cell_type": "code",
   "execution_count": null,
   "metadata": {},
   "outputs": [],
   "source": [
    "# player_perspectives, game_modes, genres, platforms, themes"
   ]
  },
  {
   "cell_type": "code",
   "execution_count": 65,
   "metadata": {},
   "outputs": [],
   "source": [
    "# player_perspectives {1, 2, 3, 4, 5, 7}\n",
    "\n",
    "# {\n",
    "#     '1': 'First-Person',\n",
    "#     '2': 'Third-Person',\n",
    "#     '3': 'Bird-view',\n",
    "#     '4': 'Side-view',\n",
    "#     '5': 'Text',\n",
    "#     '6': 'Aural',\n",
    "#     '7': 'Virtual Reality'\n",
    "# }"
   ]
  },
  {
   "cell_type": "code",
   "execution_count": 70,
   "metadata": {},
   "outputs": [],
   "source": [
    "#  themes {1, 17, 18, 19, 20, 21, 22, 23, 27, 28, 31, 32, 33, 34, 35, 38, 39, 42, 43}\n",
    "\n",
    "# {\n",
    "#     '1': 'Action',\n",
    "#     '17': 'Fantasy',\n",
    "#     '18': 'Science-Fiction',\n",
    "#     '19': 'Horro',\n",
    "#     '20': 'Thriller',\n",
    "#     '21': 'Survival',\n",
    "#     '22': 'Historical',\n",
    "#     '23': 'Stealth',\n",
    "#     '27': 'Comedy',\n",
    "#     '28': 'Business',\n",
    "#     '31': 'Drama',\n",
    "#     '32': 'Non-Fiction',\n",
    "#     '33': 'Sandbox',\n",
    "#     '34': 'Educational',\n",
    "#     '35': 'Kids',\n",
    "#     '38': 'Open-world',\n",
    "#     '39': 'Warfare',\n",
    "#     '42': 'Erotic',\n",
    "#     '43': 'Mystery',\n",
    "# }"
   ]
  },
  {
   "cell_type": "code",
   "execution_count": 73,
   "metadata": {},
   "outputs": [],
   "source": [
    "# platforms {3, 5, 6, 9, 11, 12, 14, 20, 34, 36, 37, 39, 41, 45, 46, 48, 49, 52, 72, 74, 92, 130, 159}\n",
    "\n",
    "# {\n",
    "#      '3': 'Linux',\n",
    "#      '5': 'Wii',\n",
    "#      '6': 'PC',\n",
    "#      '9': 'PS3',\n",
    "#      '11': 'Xbox',\n",
    "#      '12': 'Xbox 360',\n",
    "#      '14': 'Mac',\n",
    "#      '20': 'Nintendo DS',\n",
    "#      '34': 'Android',\n",
    "#      '36': 'Xbox Live Arcade',\n",
    "#      '37': 'Nintendo 3DS',\n",
    "#      '39': 'iOS',\n",
    "#      '41': 'Wii U',\n",
    "#      '45': 'PlayStation Network',\n",
    "#      '46': 'PlayStation Vita',\n",
    "#      '48': 'PS4',\n",
    "#      '49': 'Xbox One',\n",
    "#      '52': 'Arcade',\n",
    "#      '72': 'Ouya',\n",
    "#      '74': 'Windows Phone',\n",
    "#      '92': 'SteamOS',\n",
    "#      '130': 'Nintendo Switch',\n",
    "#      '159':'Nintendo DSi'\n",
    "# }"
   ]
  },
  {
   "cell_type": "code",
   "execution_count": null,
   "metadata": {},
   "outputs": [],
   "source": [
    "# game_modes {1, 2, 3, 4, 5}\n",
    "\n",
    "# {\n",
    "#     '1': 'Single-Player',\n",
    "#     '2': 'Multiplayer',\n",
    "#     '3': 'Co-operative',\n",
    "#     '4': 'Split screen',\n",
    "#     '5': 'Massively Multiplayer Online (MMO)'\n",
    "# }"
   ]
  },
  {
   "cell_type": "code",
   "execution_count": null,
   "metadata": {},
   "outputs": [],
   "source": []
  },
  {
   "cell_type": "markdown",
   "metadata": {},
   "source": [
    "# Did video games get better or worse overtime? "
   ]
  },
  {
   "cell_type": "code",
   "execution_count": null,
   "metadata": {},
   "outputs": [],
   "source": []
  },
  {
   "cell_type": "markdown",
   "metadata": {},
   "source": [
    "# Are games considered to be better if they have more game modes?"
   ]
  },
  {
   "cell_type": "code",
   "execution_count": null,
   "metadata": {},
   "outputs": [],
   "source": []
  },
  {
   "cell_type": "markdown",
   "metadata": {},
   "source": [
    "# Does hypes correlate to games that end up on top?"
   ]
  },
  {
   "cell_type": "code",
   "execution_count": null,
   "metadata": {},
   "outputs": [],
   "source": []
  },
  {
   "cell_type": "markdown",
   "metadata": {},
   "source": [
    "# Which platforms has the most games in the top 200 list?"
   ]
  },
  {
   "cell_type": "code",
   "execution_count": null,
   "metadata": {},
   "outputs": [],
   "source": []
  },
  {
   "cell_type": "markdown",
   "metadata": {},
   "source": [
    "# Do people like to play first person over third person video games? "
   ]
  },
  {
   "cell_type": "code",
   "execution_count": null,
   "metadata": {},
   "outputs": [],
   "source": []
  },
  {
   "cell_type": "markdown",
   "metadata": {},
   "source": [
    "# Are single player games more popular than multiplayer games?"
   ]
  },
  {
   "cell_type": "code",
   "execution_count": null,
   "metadata": {},
   "outputs": [],
   "source": []
  },
  {
   "cell_type": "markdown",
   "metadata": {},
   "source": [
    "# Which video game theme is the most popular?"
   ]
  },
  {
   "cell_type": "code",
   "execution_count": null,
   "metadata": {},
   "outputs": [],
   "source": []
  }
 ],
 "metadata": {
  "kernelspec": {
   "display_name": "Python 3",
   "language": "python",
   "name": "python3"
  },
  "language_info": {
   "codemirror_mode": {
    "name": "ipython",
    "version": 3
   },
   "file_extension": ".py",
   "mimetype": "text/x-python",
   "name": "python",
   "nbconvert_exporter": "python",
   "pygments_lexer": "ipython3",
   "version": "3.7.1"
  }
 },
 "nbformat": 4,
 "nbformat_minor": 2
}
