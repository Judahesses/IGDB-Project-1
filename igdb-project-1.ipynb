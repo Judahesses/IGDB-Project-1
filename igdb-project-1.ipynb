{
 "cells": [
  {
   "cell_type": "code",
   "execution_count": 481,
   "metadata": {},
   "outputs": [],
   "source": [
    "import requests\n",
    "import re\n",
    "import pandas as pd\n",
    "import matplotlib.pyplot as plt\n",
    "from datetime import datetime"
   ]
  },
  {
   "cell_type": "code",
   "execution_count": 482,
   "metadata": {
    "scrolled": true
   },
   "outputs": [],
   "source": [
    "file = open('./.env')\n",
    "api = file.read()"
   ]
  },
  {
   "cell_type": "code",
   "execution_count": 483,
   "metadata": {},
   "outputs": [],
   "source": [
    "def search_igdb(n): \n",
    "  \n",
    "    #set up an empty list to append each API call\n",
    "    output = []\n",
    "    url = 'https://api-v3.igdb.com/games/?limit=50'\n",
    "    #establish URL and api_key\n",
    "    headers = {\n",
    "    'user-key': api,\n",
    "    'accept': 'application/json'\n",
    "     }\n",
    "    #loops through a list of n length and updates offset after each call\n",
    "    for i in list(range(n)): \n",
    "        offset = 0\n",
    "        offset += 50*i \n",
    "        url_params = {\n",
    "            'fields':'name, total_rating_count, total_rating, rating_count, rating, popularity, aggregated_rating, aggregated_rating_count, themes, platforms, first_release_date, player_perspectives, hypes, game_modes, game_engines, genres', \n",
    "            #'filter[release_dates.platform][any]': '48,49,6',\n",
    "            'filter[total_rating_count][gte]': '150',\n",
    "            'filter[rating_count][gte]': '100',\n",
    "            'filter[aggregated_rating_count][gte]': '10',\n",
    "            'offset': offset\n",
    "      \n",
    "      \n",
    "      \n",
    "    #         'filter'= filter[release_dates.platform][any] = 48,49,6\n",
    "    #         'filter'= filter[total_rating_count][gte] = 1\n",
    "          }\n",
    "        #fields=*&filter[release_dates.platform][any]=48,49,6\n",
    "    \n",
    "    \n",
    "        response = requests.get(url, headers=headers, params=url_params)\n",
    "        #run our request get requests\n",
    "    \n",
    "  \n",
    "    \n",
    "        list(filter(lambda x: output.append(x), response.json()))\n",
    "     #and \n",
    "  \n",
    "    return output"
   ]
  },
  {
   "cell_type": "code",
   "execution_count": 484,
   "metadata": {},
   "outputs": [],
   "source": [
    "video_games = search_igdb(4)\n",
    "df = pd.DataFrame(video_games)"
   ]
  },
  {
   "cell_type": "code",
   "execution_count": 485,
   "metadata": {},
   "outputs": [],
   "source": [
    "# sort the games by the highest rating \n",
    "df = df.sort_values('total_rating', ascending=False)"
   ]
  },
  {
   "cell_type": "code",
   "execution_count": 486,
   "metadata": {},
   "outputs": [],
   "source": [
    "# change the index of the DataFrame to the name of the game\n",
    "df = df.set_index('name')"
   ]
  },
  {
   "cell_type": "code",
   "execution_count": 487,
   "metadata": {},
   "outputs": [],
   "source": [
    "# drop the column with the game 'IDs'\n",
    "df = df.drop(['id'], axis=1)"
   ]
  },
  {
   "cell_type": "code",
   "execution_count": 488,
   "metadata": {},
   "outputs": [],
   "source": [
    "# changing column names\n",
    "df = df.rename(columns={'aggregated_rating':'critic_review_rating'})\n",
    "df = df.rename(columns={'aggregated_rating_count':'critic_review_count'})\n",
    "df = df.rename(columns={'first_release_date':'release_date'})\n",
    "df = df.rename(columns={'rating':'player_review_rating'})\n",
    "df = df.rename(columns={'rating_count':'player_review_rating_count'})\n",
    "df = df.rename(columns={'total_rating':'total_review_rating'})\n",
    "df = df.rename(columns={'total_rating_count':'total_review_rating_count'})"
   ]
  },
  {
   "cell_type": "code",
   "execution_count": 489,
   "metadata": {},
   "outputs": [],
   "source": [
    "# replace the values in our two rows with \n",
    "for row in df.loc[df.themes.isnull(), 'themes'].index: \n",
    "    df.at[row, 'themes'] = [] \n",
    "        \n",
    "for row in df.loc[df.player_perspectives.isnull(), 'player_perspectives'].index: \n",
    "    df.at[row, 'player_perspectives'] = [] "
   ]
  },
  {
   "cell_type": "code",
   "execution_count": 490,
   "metadata": {},
   "outputs": [],
   "source": [
    "df = df.fillna(' ')"
   ]
  },
  {
   "cell_type": "code",
   "execution_count": 491,
   "metadata": {},
   "outputs": [],
   "source": [
    "# getting codes for each column \n",
    "\n",
    "platforms_codes = list(df['platforms'])\n",
    "game_engines_codes = list(df['game_engines'])\n",
    "player_perspectives_codes = list(df['player_perspectives'])\n",
    "game_modes_codes = list(df['game_modes'])\n",
    "themes_codes = list(df['themes'])\n",
    "\n",
    "def unique_column_set(column):\n",
    "    unique_letters = [] \n",
    "    for letters in column:\n",
    "        for letter in letters:\n",
    "            if letters != '':\n",
    "                unique_letters.append(letter)\n",
    "    return set(unique_letters)\n",
    "\n",
    "unique_platforms_codes = unique_column_set(platforms_codes)\n",
    "unique_game_engines_codes = unique_column_set(game_engines_codes)\n",
    "unique_player_perspectives_codes = unique_column_set(player_perspectives_codes)\n",
    "unique_game_modes_codes = unique_column_set(game_modes_codes)\n",
    "unique_themes_codes = unique_column_set(themes_codes)"
   ]
  },
  {
   "cell_type": "code",
   "execution_count": 492,
   "metadata": {},
   "outputs": [],
   "source": [
    "# getting all the values for release_dates in a unique set\n",
    "\n",
    "unix_codes = list(df['release_date'])\n",
    "\n",
    "def unique_release_set(lst):\n",
    "    unique_dates = [] \n",
    "    for date in lst:\n",
    "                unique_dates.append(date)\n",
    "    return set(unique_dates)\n",
    "\n",
    "unique_release_codes = unique_release_set(unix_codes)"
   ]
  },
  {
   "cell_type": "code",
   "execution_count": 493,
   "metadata": {},
   "outputs": [],
   "source": [
    "# converting epoch to human readable date\n",
    "df['release_date'] = pd.to_datetime(df['release_date'], unit='s')"
   ]
  },
  {
   "cell_type": "code",
   "execution_count": 494,
   "metadata": {},
   "outputs": [],
   "source": [
    "# creating a new column called year which displays just the year the game released in standart date time\n",
    "df['release_year'] = df['release_date'].dt.year"
   ]
  },
  {
   "cell_type": "code",
   "execution_count": 495,
   "metadata": {
    "scrolled": false
   },
   "outputs": [],
   "source": [
    "# round off the digits by 2 decimal places\n",
    "df['critic_review_rating']= round(df['critic_review_rating'], 2)\n",
    "df['popularity']= round(df['popularity'], 2)\n",
    "df['player_review_rating']= round(df['player_review_rating'], 2)\n",
    "df['player_review_rating_count']= round(df['player_review_rating_count'], 2)\n",
    "df['total_review_rating']= round(df['total_review_rating'], 2)"
   ]
  },
  {
   "cell_type": "code",
   "execution_count": 496,
   "metadata": {},
   "outputs": [],
   "source": [
    "# created dictionary with keys as game_mode and values as the corresponding ID\n",
    "game_modes = {'Single Player':1, \n",
    "              'Multiplayer':2 , \n",
    "              'Co-operative':3, \n",
    "              'Split Screen':4, \n",
    "              'Massively Multiplayer Online':5}  "
   ]
  },
  {
   "cell_type": "code",
   "execution_count": 497,
   "metadata": {},
   "outputs": [],
   "source": [
    "#goes through our series function game_modes and creates a new set of columns that passes a boolean True if that game supports that game mode\n",
    "for game_mode in game_modes.keys():\n",
    "    df[game_mode] = df.game_modes.apply(lambda mode_list: game_modes[game_mode] in mode_list)"
   ]
  },
  {
   "cell_type": "code",
   "execution_count": 498,
   "metadata": {},
   "outputs": [],
   "source": [
    "#goes through our series function game_modes and creates a new set of columns that passes a boolean True if that game supports that game mode\n",
    "for game_mode in game_modes.keys():\n",
    "    df[game_mode] = df.game_modes.apply(lambda mode_list: game_modes[game_mode] in mode_list)"
   ]
  },
  {
   "cell_type": "code",
   "execution_count": 499,
   "metadata": {},
   "outputs": [],
   "source": [
    "#created dictionary with keys as platform and values as corresponding ID for each platform\n",
    "platforms = {'Linux': 3,\n",
    "'Wii': 5 ,\n",
    "'PC': 6,\n",
    "'PS3': 9,\n",
    "'Xbox': 11,\n",
    "'Xbox 360':12,\n",
    "'Mac': 14,\n",
    "'Nintendo DS':20,\n",
    "'Android':34,\n",
    "'Xbox Live Arcade':36,\n",
    "'Nintendo 3DS': 37,\n",
    "'iOS':39,\n",
    "'Wii U':41,\n",
    "'PlayStation Network':45,\n",
    "'PlayStation Vita':46,\n",
    "'PS4':48,\n",
    "'Xbox One':49,\n",
    "'Arcade':52,\n",
    "'Ouya':72,\n",
    "'Windows Phone':74,\n",
    "'SteamOS':92,\n",
    "'Nintendo Switch':130,\n",
    "'Nintendo DSi':159}"
   ]
  },
  {
   "cell_type": "code",
   "execution_count": 500,
   "metadata": {},
   "outputs": [],
   "source": [
    "#goes through each list in the platform column and creates a dummy variable for each platform type and adds a boolean expression if the game in question is offered on that platform\n",
    "for platform in platforms.keys():\n",
    "    df[platform] = df.platforms.apply(lambda plat_list: platforms[platform] in plat_list) "
   ]
  },
  {
   "cell_type": "code",
   "execution_count": 501,
   "metadata": {},
   "outputs": [],
   "source": [
    "themes = {'Action':1,\n",
    "    'Fantasy': 17,\n",
    "    'Science-Fiction': 18,\n",
    "    'Horror': 19,\n",
    "    'Thriller': 20,\n",
    "    'Survival': 21,\n",
    "    'Historical': 22,\n",
    "    'Stealth': 23,\n",
    "    'Comedy': 27,\n",
    "    'Business': 28,\n",
    "    'Drama': 31,\n",
    "    'Non-Fiction': 32,\n",
    "    'Sandbox': 33,\n",
    "    'Educational': 34,\n",
    "    'Kids': 35,\n",
    "    'Open-world': 38,\n",
    "    'Warfare': 39,\n",
    "    'Erotic': 42,\n",
    "    'Mystery': 43 }"
   ]
  },
  {
   "cell_type": "code",
   "execution_count": 502,
   "metadata": {},
   "outputs": [],
   "source": [
    "#perform the repeated for loop on the them column and then drop the theme column\n",
    "for theme in themes.keys():\n",
    "    df[theme] = df.themes.apply(lambda theme_list: themes[theme] in theme_list)"
   ]
  },
  {
   "cell_type": "code",
   "execution_count": 503,
   "metadata": {},
   "outputs": [],
   "source": [
    "#repeat for player_perspectives\n",
    "player_perspectives = {'First-Person':1,\n",
    "    'Third-Person': 2,\n",
    "    'Bird-view': 3,\n",
    "    'Side-view': 4,\n",
    "    'Text': 5,\n",
    "    'Aural': 6,\n",
    "    'Virtual Reality': 7}"
   ]
  },
  {
   "cell_type": "code",
   "execution_count": 504,
   "metadata": {},
   "outputs": [],
   "source": [
    "for player_perspective in player_perspectives.keys():\n",
    "    df[player_perspective] = df.player_perspectives.apply(lambda pp_list: player_perspectives[player_perspective] in pp_list)"
   ]
  },
  {
   "cell_type": "code",
   "execution_count": 505,
   "metadata": {},
   "outputs": [],
   "source": [
    "#repeating the process for genres defining our dictionary\n",
    "genres = {'Simulator':13,\n",
    "'Tactical':24,\n",
    "'Quiz/Trivia':26,\n",
    "'Fighting':4,\n",
    "'Strategy':15,\n",
    "'Adventure':31,\n",
    "'Role-playing (RPG)':12,\n",
    "'Shooter':5,\n",
    "'Music':7,\n",
    "'Indie':32,\n",
    "'Turn-based strategy (TBS)':16,\n",
    "'Pinball':30,\n",
    "'Puzzle':9,\n",
    "'Real Time Strategy (RTS)':11,\n",
    "'Hack and slash/Beat ’em up':25,\n",
    "'Platform':8,\n",
    "'Racing':10,\n",
    "'Sport':14,\n",
    "'Arcade':33,\n",
    "'Point-and-click':2}"
   ]
  },
  {
   "cell_type": "code",
   "execution_count": 506,
   "metadata": {},
   "outputs": [],
   "source": [
    "for genre in genres.keys():\n",
    "    df[genre] = df.genres.apply(lambda genre_list: genres[genre] in genre_list)"
   ]
  },
  {
   "cell_type": "code",
   "execution_count": 507,
   "metadata": {},
   "outputs": [],
   "source": [
    "df = df.drop(['platforms'], axis=1) "
   ]
  },
  {
   "cell_type": "code",
   "execution_count": 508,
   "metadata": {},
   "outputs": [],
   "source": [
    "df = df.drop(['genres'], axis=1) "
   ]
  },
  {
   "cell_type": "code",
   "execution_count": 509,
   "metadata": {},
   "outputs": [],
   "source": [
    "df = df.drop(['game_modes'], axis=1)"
   ]
  },
  {
   "cell_type": "code",
   "execution_count": 510,
   "metadata": {},
   "outputs": [],
   "source": [
    "df = df.drop(['player_perspectives'], axis=1)"
   ]
  },
  {
   "cell_type": "code",
   "execution_count": 511,
   "metadata": {},
   "outputs": [],
   "source": [
    "df = df.drop(['themes'], axis=1)"
   ]
  },
  {
   "cell_type": "code",
   "execution_count": 512,
   "metadata": {},
   "outputs": [
    {
     "data": {
      "text/html": [
       "<div>\n",
       "<style scoped>\n",
       "    .dataframe tbody tr th:only-of-type {\n",
       "        vertical-align: middle;\n",
       "    }\n",
       "\n",
       "    .dataframe tbody tr th {\n",
       "        vertical-align: top;\n",
       "    }\n",
       "\n",
       "    .dataframe thead th {\n",
       "        text-align: right;\n",
       "    }\n",
       "</style>\n",
       "<table border=\"1\" class=\"dataframe\">\n",
       "  <thead>\n",
       "    <tr style=\"text-align: right;\">\n",
       "      <th></th>\n",
       "      <th>critic_review_rating</th>\n",
       "      <th>critic_review_count</th>\n",
       "      <th>release_date</th>\n",
       "      <th>game_engines</th>\n",
       "      <th>hypes</th>\n",
       "      <th>popularity</th>\n",
       "      <th>player_review_rating</th>\n",
       "      <th>player_review_rating_count</th>\n",
       "      <th>total_review_rating</th>\n",
       "      <th>total_review_rating_count</th>\n",
       "      <th>...</th>\n",
       "      <th>Indie</th>\n",
       "      <th>Turn-based strategy (TBS)</th>\n",
       "      <th>Pinball</th>\n",
       "      <th>Puzzle</th>\n",
       "      <th>Real Time Strategy (RTS)</th>\n",
       "      <th>Hack and slash/Beat ’em up</th>\n",
       "      <th>Platform</th>\n",
       "      <th>Racing</th>\n",
       "      <th>Sport</th>\n",
       "      <th>Point-and-click</th>\n",
       "    </tr>\n",
       "    <tr>\n",
       "      <th>name</th>\n",
       "      <th></th>\n",
       "      <th></th>\n",
       "      <th></th>\n",
       "      <th></th>\n",
       "      <th></th>\n",
       "      <th></th>\n",
       "      <th></th>\n",
       "      <th></th>\n",
       "      <th></th>\n",
       "      <th></th>\n",
       "      <th></th>\n",
       "      <th></th>\n",
       "      <th></th>\n",
       "      <th></th>\n",
       "      <th></th>\n",
       "      <th></th>\n",
       "      <th></th>\n",
       "      <th></th>\n",
       "      <th></th>\n",
       "      <th></th>\n",
       "      <th></th>\n",
       "    </tr>\n",
       "  </thead>\n",
       "  <tbody>\n",
       "    <tr>\n",
       "      <th>Red Dead Redemption 2</th>\n",
       "      <td>95.92</td>\n",
       "      <td>22</td>\n",
       "      <td>2018-10-26</td>\n",
       "      <td>[26]</td>\n",
       "      <td>257</td>\n",
       "      <td>224.52</td>\n",
       "      <td>97.46</td>\n",
       "      <td>205</td>\n",
       "      <td>96.69</td>\n",
       "      <td>227</td>\n",
       "      <td>...</td>\n",
       "      <td>False</td>\n",
       "      <td>False</td>\n",
       "      <td>False</td>\n",
       "      <td>False</td>\n",
       "      <td>False</td>\n",
       "      <td>False</td>\n",
       "      <td>False</td>\n",
       "      <td>False</td>\n",
       "      <td>False</td>\n",
       "      <td>False</td>\n",
       "    </tr>\n",
       "    <tr>\n",
       "      <th>God of War</th>\n",
       "      <td>96.94</td>\n",
       "      <td>21</td>\n",
       "      <td>2018-04-20</td>\n",
       "      <td></td>\n",
       "      <td>92</td>\n",
       "      <td>117.30</td>\n",
       "      <td>96.30</td>\n",
       "      <td>377</td>\n",
       "      <td>96.62</td>\n",
       "      <td>398</td>\n",
       "      <td>...</td>\n",
       "      <td>False</td>\n",
       "      <td>False</td>\n",
       "      <td>False</td>\n",
       "      <td>False</td>\n",
       "      <td>False</td>\n",
       "      <td>False</td>\n",
       "      <td>False</td>\n",
       "      <td>False</td>\n",
       "      <td>False</td>\n",
       "      <td>False</td>\n",
       "    </tr>\n",
       "    <tr>\n",
       "      <th>The Last of Us Remastered</th>\n",
       "      <td>97.40</td>\n",
       "      <td>11</td>\n",
       "      <td>2014-07-29</td>\n",
       "      <td></td>\n",
       "      <td>5</td>\n",
       "      <td>23.35</td>\n",
       "      <td>93.22</td>\n",
       "      <td>465</td>\n",
       "      <td>95.31</td>\n",
       "      <td>476</td>\n",
       "      <td>...</td>\n",
       "      <td>False</td>\n",
       "      <td>False</td>\n",
       "      <td>False</td>\n",
       "      <td>False</td>\n",
       "      <td>False</td>\n",
       "      <td>False</td>\n",
       "      <td>False</td>\n",
       "      <td>False</td>\n",
       "      <td>False</td>\n",
       "      <td>False</td>\n",
       "    </tr>\n",
       "    <tr>\n",
       "      <th>The Legend of Zelda: Breath of the Wild</th>\n",
       "      <td>97.59</td>\n",
       "      <td>31</td>\n",
       "      <td>2017-03-03</td>\n",
       "      <td>[17, 502, 503]</td>\n",
       "      <td>142</td>\n",
       "      <td>67.09</td>\n",
       "      <td>92.58</td>\n",
       "      <td>469</td>\n",
       "      <td>95.09</td>\n",
       "      <td>500</td>\n",
       "      <td>...</td>\n",
       "      <td>False</td>\n",
       "      <td>False</td>\n",
       "      <td>False</td>\n",
       "      <td>False</td>\n",
       "      <td>False</td>\n",
       "      <td>False</td>\n",
       "      <td>False</td>\n",
       "      <td>False</td>\n",
       "      <td>False</td>\n",
       "      <td>False</td>\n",
       "    </tr>\n",
       "    <tr>\n",
       "      <th>Super Mario Odyssey</th>\n",
       "      <td>96.71</td>\n",
       "      <td>19</td>\n",
       "      <td>2017-10-27</td>\n",
       "      <td></td>\n",
       "      <td>88</td>\n",
       "      <td>37.61</td>\n",
       "      <td>91.95</td>\n",
       "      <td>279</td>\n",
       "      <td>94.33</td>\n",
       "      <td>298</td>\n",
       "      <td>...</td>\n",
       "      <td>False</td>\n",
       "      <td>False</td>\n",
       "      <td>False</td>\n",
       "      <td>False</td>\n",
       "      <td>False</td>\n",
       "      <td>False</td>\n",
       "      <td>True</td>\n",
       "      <td>False</td>\n",
       "      <td>False</td>\n",
       "      <td>False</td>\n",
       "    </tr>\n",
       "  </tbody>\n",
       "</table>\n",
       "<p>5 rows × 84 columns</p>\n",
       "</div>"
      ],
      "text/plain": [
       "                                         critic_review_rating  \\\n",
       "name                                                            \n",
       "Red Dead Redemption 2                                   95.92   \n",
       "God of War                                              96.94   \n",
       "The Last of Us Remastered                               97.40   \n",
       "The Legend of Zelda: Breath of the Wild                 97.59   \n",
       "Super Mario Odyssey                                     96.71   \n",
       "\n",
       "                                         critic_review_count release_date  \\\n",
       "name                                                                        \n",
       "Red Dead Redemption 2                                     22   2018-10-26   \n",
       "God of War                                                21   2018-04-20   \n",
       "The Last of Us Remastered                                 11   2014-07-29   \n",
       "The Legend of Zelda: Breath of the Wild                   31   2017-03-03   \n",
       "Super Mario Odyssey                                       19   2017-10-27   \n",
       "\n",
       "                                           game_engines hypes  popularity  \\\n",
       "name                                                                        \n",
       "Red Dead Redemption 2                              [26]   257      224.52   \n",
       "God of War                                                 92      117.30   \n",
       "The Last of Us Remastered                                   5       23.35   \n",
       "The Legend of Zelda: Breath of the Wild  [17, 502, 503]   142       67.09   \n",
       "Super Mario Odyssey                                        88       37.61   \n",
       "\n",
       "                                         player_review_rating  \\\n",
       "name                                                            \n",
       "Red Dead Redemption 2                                   97.46   \n",
       "God of War                                              96.30   \n",
       "The Last of Us Remastered                               93.22   \n",
       "The Legend of Zelda: Breath of the Wild                 92.58   \n",
       "Super Mario Odyssey                                     91.95   \n",
       "\n",
       "                                         player_review_rating_count  \\\n",
       "name                                                                  \n",
       "Red Dead Redemption 2                                           205   \n",
       "God of War                                                      377   \n",
       "The Last of Us Remastered                                       465   \n",
       "The Legend of Zelda: Breath of the Wild                         469   \n",
       "Super Mario Odyssey                                             279   \n",
       "\n",
       "                                         total_review_rating  \\\n",
       "name                                                           \n",
       "Red Dead Redemption 2                                  96.69   \n",
       "God of War                                             96.62   \n",
       "The Last of Us Remastered                              95.31   \n",
       "The Legend of Zelda: Breath of the Wild                95.09   \n",
       "Super Mario Odyssey                                    94.33   \n",
       "\n",
       "                                         total_review_rating_count  \\\n",
       "name                                                                 \n",
       "Red Dead Redemption 2                                          227   \n",
       "God of War                                                     398   \n",
       "The Last of Us Remastered                                      476   \n",
       "The Legend of Zelda: Breath of the Wild                        500   \n",
       "Super Mario Odyssey                                            298   \n",
       "\n",
       "                                              ...         Indie  \\\n",
       "name                                          ...                 \n",
       "Red Dead Redemption 2                         ...         False   \n",
       "God of War                                    ...         False   \n",
       "The Last of Us Remastered                     ...         False   \n",
       "The Legend of Zelda: Breath of the Wild       ...         False   \n",
       "Super Mario Odyssey                           ...         False   \n",
       "\n",
       "                                         Turn-based strategy (TBS)  Pinball  \\\n",
       "name                                                                          \n",
       "Red Dead Redemption 2                                        False    False   \n",
       "God of War                                                   False    False   \n",
       "The Last of Us Remastered                                    False    False   \n",
       "The Legend of Zelda: Breath of the Wild                      False    False   \n",
       "Super Mario Odyssey                                          False    False   \n",
       "\n",
       "                                         Puzzle  Real Time Strategy (RTS)  \\\n",
       "name                                                                        \n",
       "Red Dead Redemption 2                     False                     False   \n",
       "God of War                                False                     False   \n",
       "The Last of Us Remastered                 False                     False   \n",
       "The Legend of Zelda: Breath of the Wild   False                     False   \n",
       "Super Mario Odyssey                       False                     False   \n",
       "\n",
       "                                         Hack and slash/Beat ’em up  Platform  \\\n",
       "name                                                                            \n",
       "Red Dead Redemption 2                                         False     False   \n",
       "God of War                                                    False     False   \n",
       "The Last of Us Remastered                                     False     False   \n",
       "The Legend of Zelda: Breath of the Wild                       False     False   \n",
       "Super Mario Odyssey                                           False      True   \n",
       "\n",
       "                                         Racing  Sport  Point-and-click  \n",
       "name                                                                     \n",
       "Red Dead Redemption 2                     False  False            False  \n",
       "God of War                                False  False            False  \n",
       "The Last of Us Remastered                 False  False            False  \n",
       "The Legend of Zelda: Breath of the Wild   False  False            False  \n",
       "Super Mario Odyssey                       False  False            False  \n",
       "\n",
       "[5 rows x 84 columns]"
      ]
     },
     "execution_count": 512,
     "metadata": {},
     "output_type": "execute_result"
    }
   ],
   "source": [
    "df.head()"
   ]
  },
  {
   "cell_type": "markdown",
   "metadata": {},
   "source": [
    "# Did video games get better or worse overtime?"
   ]
  },
  {
   "cell_type": "code",
   "execution_count": 513,
   "metadata": {},
   "outputs": [],
   "source": [
    "# mean values for all columns by release_year\n",
    "release_year_mean = df.groupby(['release_year']).mean()"
   ]
  },
  {
   "cell_type": "code",
   "execution_count": 514,
   "metadata": {},
   "outputs": [
    {
     "data": {
      "text/plain": [
       "Text(0.5, 1.0, 'Average rating of the top game by year')"
      ]
     },
     "execution_count": 514,
     "metadata": {},
     "output_type": "execute_result"
    },
    {
     "data": {
      "image/png": "[encoded data removed]",
      "text/plain": [
       "<Figure size 1440x720 with 1 Axes>"
      ]
     },
     "metadata": {
      "needs_background": "light"
     },
     "output_type": "display_data"
    }
   ],
   "source": [
    "new_figure = plt.figure(figsize=(20,10))\n",
    "ax = new_figure.add_subplot(111)\n",
    "ax.scatter(release_year_mean.index , release_year_mean.total_review_rating)\n",
    "ax.set_xlabel('year', size=25)\n",
    "ax.set_ylabel('rating', size=25)\n",
    "ax.set_title('Average rating of the top game by year', size=25)"
   ]
  },
  {
   "cell_type": "code",
   "execution_count": 553,
   "metadata": {},
   "outputs": [],
   "source": [
    "xbox = df[(df[\"Xbox One\"] == True) | (df[\"Xbox\"] == True) | (df[\"Xbox 360\"] == True) | (df[\"Xbox Live Arcade\"] == True)].mean()"
   ]
  },
  {
   "cell_type": "code",
   "execution_count": 554,
   "metadata": {},
   "outputs": [],
   "source": [
    "ps = df[(df[\"PlayStation Vita\"] == True) | (df[\"PS3\"] == True) | (df[\"PS4\"] == True) | (df[\"PlayStation Network\"] == True)].mean()"
   ]
  },
  {
   "cell_type": "code",
   "execution_count": 555,
   "metadata": {},
   "outputs": [],
   "source": [
    "nintendo = df[(df[\"Nintendo DS\"] == True) | (df[\"Wii\"] == True) | (df[\"Wii U\"] == True) | (df[\"Nintendo 3DS\"] == True) | (df[\"Nintendo DSi\"] == True) | (df[\"Nintendo Switch\"] == True)].mean()"
   ]
  },
  {
   "cell_type": "code",
   "execution_count": 560,
   "metadata": {},
   "outputs": [
    {
     "data": {
      "text/plain": [
       "critic_review_rating              84.159641\n",
       "critic_review_count               19.748503\n",
       "popularity                        24.058503\n",
       "player_review_rating              82.066647\n",
       "player_review_rating_count       359.544910\n",
       "total_review_rating               83.113413\n",
       "total_review_rating_count        379.293413\n",
       "release_year                    2013.209581\n",
       "Single Player                      0.994012\n",
       "Multiplayer                        0.467066\n",
       "Co-operative                       0.299401\n",
       "Split Screen                       0.053892\n",
       "Massively Multiplayer Online       0.023952\n",
       "Linux                              0.149701\n",
       "Wii                                0.017964\n",
       "PC                                 0.874251\n",
       "PS3                                0.628743\n",
       "Xbox                               0.000000\n",
       "Xbox 360                           0.526946\n",
       "Mac                                0.281437\n",
       "Nintendo DS                        0.017964\n",
       "Android                            0.083832\n",
       "Xbox Live Arcade                   0.065868\n",
       "Nintendo 3DS                       0.017964\n",
       "iOS                                0.173653\n",
       "Wii U                              0.083832\n",
       "PlayStation Network                0.227545\n",
       "PlayStation Vita                   0.089820\n",
       "PS4                                0.652695\n",
       "Xbox One                           0.526946\n",
       "                                   ...     \n",
       "Open-world                         0.335329\n",
       "Warfare                            0.113772\n",
       "Erotic                             0.005988\n",
       "Mystery                            0.023952\n",
       "First-Person                       0.353293\n",
       "Third-Person                       0.622754\n",
       "Bird-view                          0.101796\n",
       "Side-view                          0.077844\n",
       "Text                               0.000000\n",
       "Aural                              0.000000\n",
       "Virtual Reality                    0.029940\n",
       "Simulator                          0.053892\n",
       "Tactical                           0.065868\n",
       "Quiz/Trivia                        0.000000\n",
       "Fighting                           0.047904\n",
       "Strategy                           0.083832\n",
       "Adventure                          0.724551\n",
       "Role-playing (RPG)                 0.335329\n",
       "Shooter                            0.520958\n",
       "Music                              0.005988\n",
       "Indie                              0.143713\n",
       "Turn-based strategy (TBS)          0.029940\n",
       "Pinball                            0.000000\n",
       "Puzzle                             0.071856\n",
       "Real Time Strategy (RTS)           0.017964\n",
       "Hack and slash/Beat ’em up         0.089820\n",
       "Platform                           0.107784\n",
       "Racing                             0.059880\n",
       "Sport                              0.071856\n",
       "Point-and-click                    0.029940\n",
       "Length: 81, dtype: float64"
      ]
     },
     "execution_count": 560,
     "metadata": {},
     "output_type": "execute_result"
    }
   ],
   "source": [
    "ps"
   ]
  },
  {
   "cell_type": "code",
   "execution_count": 556,
   "metadata": {},
   "outputs": [
    {
     "data": {
      "text/plain": [
       "Index(['critic_review_rating', 'critic_review_count', 'release_date',\n",
       "       'game_engines', 'hypes', 'popularity', 'player_review_rating',\n",
       "       'player_review_rating_count', 'total_review_rating',\n",
       "       'total_review_rating_count', 'release_year', 'Single Player',\n",
       "       'Multiplayer', 'Co-operative', 'Split Screen',\n",
       "       'Massively Multiplayer Online', 'Linux', 'Wii', 'PC', 'PS3', 'Xbox',\n",
       "       'Xbox 360', 'Mac', 'Nintendo DS', 'Android', 'Xbox Live Arcade',\n",
       "       'Nintendo 3DS', 'iOS', 'Wii U', 'PlayStation Network',\n",
       "       'PlayStation Vita', 'PS4', 'Xbox One', 'Arcade', 'Ouya',\n",
       "       'Windows Phone', 'SteamOS', 'Nintendo Switch', 'Nintendo DSi', 'Action',\n",
       "       'Fantasy', 'Science-Fiction', 'Horror', 'Thriller', 'Survival',\n",
       "       'Historical', 'Stealth', 'Comedy', 'Business', 'Drama', 'Non-Fiction',\n",
       "       'Sandbox', 'Educational', 'Kids', 'Open-world', 'Warfare', 'Erotic',\n",
       "       'Mystery', 'First-Person', 'Third-Person', 'Bird-view', 'Side-view',\n",
       "       'Text', 'Aural', 'Virtual Reality', 'Simulator', 'Tactical',\n",
       "       'Quiz/Trivia', 'Fighting', 'Strategy', 'Adventure',\n",
       "       'Role-playing (RPG)', 'Shooter', 'Music', 'Indie',\n",
       "       'Turn-based strategy (TBS)', 'Pinball', 'Puzzle',\n",
       "       'Real Time Strategy (RTS)', 'Hack and slash/Beat ’em up', 'Platform',\n",
       "       'Racing', 'Sport', 'Point-and-click'],\n",
       "      dtype='object')"
      ]
     },
     "execution_count": 556,
     "metadata": {},
     "output_type": "execute_result"
    }
   ],
   "source": [
    "df.columns"
   ]
  },
  {
   "cell_type": "code",
   "execution_count": 563,
   "metadata": {},
   "outputs": [],
   "source": [
    "x_ps = [ps['Simulator'], ps['Tactical'],\n",
    "       ps['Quiz/Trivia'], ps['Fighting'], ps['Strategy'], ps['Adventure'],\n",
    "       ps['Role-playing (RPG)'], ps['Shooter'], ps['Music'], ps['Indie'],\n",
    "      ps['Turn-based strategy (TBS)'], ps['Pinball'], ps['Puzzle'],\n",
    "       ps['Real Time Strategy (RTS)'], ps['Hack and slash/Beat ’em up'], ps['Platform'],\n",
    "       ps['Racing'], ps['Sport'], ps['Point-and-click']]"
   ]
  },
  {
   "cell_type": "code",
   "execution_count": 564,
   "metadata": {},
   "outputs": [],
   "source": [
    "y_ps = [['Simulator'], ['Tactical'],\n",
    "       ['Quiz/Trivia'], ['Fighting'], ['Strategy'], ['Adventure'],\n",
    "       ['Role-playing (RPG)'], ['Shooter'], ['Music'], ['Indie'],\n",
    "      ['Turn-based strategy (TBS)'], ['Pinball'], ['Puzzle'],\n",
    "       ['Real Time Strategy (RTS)'], ['Hack and slash/Beat ’em up'], ['Platform'],\n",
    "       ['Racing'], ['Sport'], ['Point-and-click']]"
   ]
  },
  {
   "cell_type": "code",
   "execution_count": 565,
   "metadata": {},
   "outputs": [
    {
     "ename": "SyntaxError",
     "evalue": "unexpected EOF while parsing (<ipython-input-565-c916664730e3>, line 6)",
     "output_type": "error",
     "traceback": [
      "\u001b[0;36m  File \u001b[0;32m\"<ipython-input-565-c916664730e3>\"\u001b[0;36m, line \u001b[0;32m6\u001b[0m\n\u001b[0;31m    ['Racing'], ['Sport'], ['Point-and-click']\u001b[0m\n\u001b[0m                                              ^\u001b[0m\n\u001b[0;31mSyntaxError\u001b[0m\u001b[0;31m:\u001b[0m unexpected EOF while parsing\n"
     ]
    }
   ],
   "source": [
    "xb_genres = [ps['Simulator'], ['Tactical'],\n",
    "       ['Quiz/Trivia'], ['Fighting'], ['Strategy'], ['Adventure'],\n",
    "       ['Role-playing (RPG)'], ['Shooter'], ['Music'], ['Indie'],\n",
    "      ['Turn-based strategy (TBS)'], ['Pinball'], ['Puzzle'],\n",
    "       ['Real Time Strategy (RTS)'], ['Hack and slash/Beat ’em up'], ['Platform'],\n",
    "       ['Racing'], ['Sport'], ['Point-and-click']"
   ]
  },
  {
   "cell_type": "code",
   "execution_count": 566,
   "metadata": {},
   "outputs": [
    {
     "ename": "SyntaxError",
     "evalue": "unexpected EOF while parsing (<ipython-input-566-f2c0d57d4341>, line 6)",
     "output_type": "error",
     "traceback": [
      "\u001b[0;36m  File \u001b[0;32m\"<ipython-input-566-f2c0d57d4341>\"\u001b[0;36m, line \u001b[0;32m6\u001b[0m\n\u001b[0;31m    ['Racing'], ['Sport'], ['Point-and-click']\u001b[0m\n\u001b[0m                                              ^\u001b[0m\n\u001b[0;31mSyntaxError\u001b[0m\u001b[0;31m:\u001b[0m unexpected EOF while parsing\n"
     ]
    }
   ],
   "source": [
    "nintendo_genres = [ps['Simulator'], ['Tactical'],\n",
    "       ['Quiz/Trivia'], ['Fighting'], ['Strategy'], ['Adventure'],\n",
    "       ['Role-playing (RPG)'], ['Shooter'], ['Music'], ['Indie'],\n",
    "      ['Turn-based strategy (TBS)'], ['Pinball'], ['Puzzle'],\n",
    "       ['Real Time Strategy (RTS)'], ['Hack and slash/Beat ’em up'], ['Platform'],\n",
    "       ['Racing'], ['Sport'], ['Point-and-click']"
   ]
  },
  {
   "cell_type": "code",
   "execution_count": 567,
   "metadata": {},
   "outputs": [
    {
     "ename": "TypeError",
     "evalue": "only size-1 arrays can be converted to Python scalars",
     "output_type": "error",
     "traceback": [
      "\u001b[0;31m---------------------------------------------------------------------------\u001b[0m",
      "\u001b[0;31mTypeError\u001b[0m                                 Traceback (most recent call last)",
      "\u001b[0;32m<ipython-input-567-f52a03c9fb25>\u001b[0m in \u001b[0;36m<module>\u001b[0;34m\u001b[0m\n\u001b[1;32m      1\u001b[0m \u001b[0mnew_figure\u001b[0m \u001b[0;34m=\u001b[0m \u001b[0mplt\u001b[0m\u001b[0;34m.\u001b[0m\u001b[0mfigure\u001b[0m\u001b[0;34m(\u001b[0m\u001b[0mfigsize\u001b[0m\u001b[0;34m=\u001b[0m\u001b[0;34m(\u001b[0m\u001b[0;36m20\u001b[0m\u001b[0;34m,\u001b[0m\u001b[0;36m10\u001b[0m\u001b[0;34m)\u001b[0m\u001b[0;34m)\u001b[0m\u001b[0;34m\u001b[0m\u001b[0;34m\u001b[0m\u001b[0m\n\u001b[1;32m      2\u001b[0m \u001b[0max\u001b[0m \u001b[0;34m=\u001b[0m \u001b[0mnew_figure\u001b[0m\u001b[0;34m.\u001b[0m\u001b[0madd_subplot\u001b[0m\u001b[0;34m(\u001b[0m\u001b[0;36m111\u001b[0m\u001b[0;34m)\u001b[0m\u001b[0;34m\u001b[0m\u001b[0;34m\u001b[0m\u001b[0m\n\u001b[0;32m----> 3\u001b[0;31m \u001b[0max\u001b[0m\u001b[0;34m.\u001b[0m\u001b[0mbar\u001b[0m\u001b[0;34m(\u001b[0m\u001b[0mx_ps\u001b[0m\u001b[0;34m,\u001b[0m \u001b[0my_ps\u001b[0m\u001b[0;34m)\u001b[0m\u001b[0;34m\u001b[0m\u001b[0;34m\u001b[0m\u001b[0m\n\u001b[0m\u001b[1;32m      4\u001b[0m \u001b[0max\u001b[0m\u001b[0;34m.\u001b[0m\u001b[0mset_xlabel\u001b[0m\u001b[0;34m(\u001b[0m\u001b[0;34m'year'\u001b[0m\u001b[0;34m,\u001b[0m \u001b[0msize\u001b[0m\u001b[0;34m=\u001b[0m\u001b[0;36m25\u001b[0m\u001b[0;34m)\u001b[0m\u001b[0;34m\u001b[0m\u001b[0;34m\u001b[0m\u001b[0m\n\u001b[1;32m      5\u001b[0m \u001b[0max\u001b[0m\u001b[0;34m.\u001b[0m\u001b[0mset_ylabel\u001b[0m\u001b[0;34m(\u001b[0m\u001b[0;34m'rating'\u001b[0m\u001b[0;34m,\u001b[0m \u001b[0msize\u001b[0m\u001b[0;34m=\u001b[0m\u001b[0;36m25\u001b[0m\u001b[0;34m)\u001b[0m\u001b[0;34m\u001b[0m\u001b[0;34m\u001b[0m\u001b[0m\n",
      "\u001b[0;32m/anaconda3/lib/python3.7/site-packages/matplotlib/__init__.py\u001b[0m in \u001b[0;36minner\u001b[0;34m(ax, data, *args, **kwargs)\u001b[0m\n\u001b[1;32m   1808\u001b[0m                         \u001b[0;34m\"the Matplotlib list!)\"\u001b[0m \u001b[0;34m%\u001b[0m \u001b[0;34m(\u001b[0m\u001b[0mlabel_namer\u001b[0m\u001b[0;34m,\u001b[0m \u001b[0mfunc\u001b[0m\u001b[0;34m.\u001b[0m\u001b[0m__name__\u001b[0m\u001b[0;34m)\u001b[0m\u001b[0;34m,\u001b[0m\u001b[0;34m\u001b[0m\u001b[0;34m\u001b[0m\u001b[0m\n\u001b[1;32m   1809\u001b[0m                         RuntimeWarning, stacklevel=2)\n\u001b[0;32m-> 1810\u001b[0;31m             \u001b[0;32mreturn\u001b[0m \u001b[0mfunc\u001b[0m\u001b[0;34m(\u001b[0m\u001b[0max\u001b[0m\u001b[0;34m,\u001b[0m \u001b[0;34m*\u001b[0m\u001b[0margs\u001b[0m\u001b[0;34m,\u001b[0m \u001b[0;34m**\u001b[0m\u001b[0mkwargs\u001b[0m\u001b[0;34m)\u001b[0m\u001b[0;34m\u001b[0m\u001b[0;34m\u001b[0m\u001b[0m\n\u001b[0m\u001b[1;32m   1811\u001b[0m \u001b[0;34m\u001b[0m\u001b[0m\n\u001b[1;32m   1812\u001b[0m         inner.__doc__ = _add_data_doc(inner.__doc__,\n",
      "\u001b[0;32m/anaconda3/lib/python3.7/site-packages/matplotlib/axes/_axes.py\u001b[0m in \u001b[0;36mbar\u001b[0;34m(self, x, height, width, bottom, align, **kwargs)\u001b[0m\n\u001b[1;32m   2294\u001b[0m                 \u001b[0medgecolor\u001b[0m\u001b[0;34m=\u001b[0m\u001b[0me\u001b[0m\u001b[0;34m,\u001b[0m\u001b[0;34m\u001b[0m\u001b[0;34m\u001b[0m\u001b[0m\n\u001b[1;32m   2295\u001b[0m                 \u001b[0mlinewidth\u001b[0m\u001b[0;34m=\u001b[0m\u001b[0mlw\u001b[0m\u001b[0;34m,\u001b[0m\u001b[0;34m\u001b[0m\u001b[0;34m\u001b[0m\u001b[0m\n\u001b[0;32m-> 2296\u001b[0;31m                 \u001b[0mlabel\u001b[0m\u001b[0;34m=\u001b[0m\u001b[0;34m'_nolegend_'\u001b[0m\u001b[0;34m,\u001b[0m\u001b[0;34m\u001b[0m\u001b[0;34m\u001b[0m\u001b[0m\n\u001b[0m\u001b[1;32m   2297\u001b[0m                 )\n\u001b[1;32m   2298\u001b[0m             \u001b[0mr\u001b[0m\u001b[0;34m.\u001b[0m\u001b[0mupdate\u001b[0m\u001b[0;34m(\u001b[0m\u001b[0mkwargs\u001b[0m\u001b[0;34m)\u001b[0m\u001b[0;34m\u001b[0m\u001b[0;34m\u001b[0m\u001b[0m\n",
      "\u001b[0;32m/anaconda3/lib/python3.7/site-packages/matplotlib/patches.py\u001b[0m in \u001b[0;36m__init__\u001b[0;34m(self, xy, width, height, angle, **kwargs)\u001b[0m\n\u001b[1;32m    656\u001b[0m         \"\"\"\n\u001b[1;32m    657\u001b[0m \u001b[0;34m\u001b[0m\u001b[0m\n\u001b[0;32m--> 658\u001b[0;31m         \u001b[0mPatch\u001b[0m\u001b[0;34m.\u001b[0m\u001b[0m__init__\u001b[0m\u001b[0;34m(\u001b[0m\u001b[0mself\u001b[0m\u001b[0;34m,\u001b[0m \u001b[0;34m**\u001b[0m\u001b[0mkwargs\u001b[0m\u001b[0;34m)\u001b[0m\u001b[0;34m\u001b[0m\u001b[0;34m\u001b[0m\u001b[0m\n\u001b[0m\u001b[1;32m    659\u001b[0m \u001b[0;34m\u001b[0m\u001b[0m\n\u001b[1;32m    660\u001b[0m         \u001b[0mself\u001b[0m\u001b[0;34m.\u001b[0m\u001b[0m_x0\u001b[0m \u001b[0;34m=\u001b[0m \u001b[0mxy\u001b[0m\u001b[0;34m[\u001b[0m\u001b[0;36m0\u001b[0m\u001b[0;34m]\u001b[0m\u001b[0;34m\u001b[0m\u001b[0;34m\u001b[0m\u001b[0m\n",
      "\u001b[0;32m/anaconda3/lib/python3.7/site-packages/matplotlib/patches.py\u001b[0m in \u001b[0;36m__init__\u001b[0;34m(self, edgecolor, facecolor, color, linewidth, linestyle, antialiased, hatch, fill, capstyle, joinstyle, **kwargs)\u001b[0m\n\u001b[1;32m     85\u001b[0m         \u001b[0mself\u001b[0m\u001b[0;34m.\u001b[0m\u001b[0mset_fill\u001b[0m\u001b[0;34m(\u001b[0m\u001b[0mfill\u001b[0m\u001b[0;34m)\u001b[0m\u001b[0;34m\u001b[0m\u001b[0;34m\u001b[0m\u001b[0m\n\u001b[1;32m     86\u001b[0m         \u001b[0mself\u001b[0m\u001b[0;34m.\u001b[0m\u001b[0mset_linestyle\u001b[0m\u001b[0;34m(\u001b[0m\u001b[0mlinestyle\u001b[0m\u001b[0;34m)\u001b[0m\u001b[0;34m\u001b[0m\u001b[0;34m\u001b[0m\u001b[0m\n\u001b[0;32m---> 87\u001b[0;31m         \u001b[0mself\u001b[0m\u001b[0;34m.\u001b[0m\u001b[0mset_linewidth\u001b[0m\u001b[0;34m(\u001b[0m\u001b[0mlinewidth\u001b[0m\u001b[0;34m)\u001b[0m\u001b[0;34m\u001b[0m\u001b[0;34m\u001b[0m\u001b[0m\n\u001b[0m\u001b[1;32m     88\u001b[0m         \u001b[0mself\u001b[0m\u001b[0;34m.\u001b[0m\u001b[0mset_antialiased\u001b[0m\u001b[0;34m(\u001b[0m\u001b[0mantialiased\u001b[0m\u001b[0;34m)\u001b[0m\u001b[0;34m\u001b[0m\u001b[0;34m\u001b[0m\u001b[0m\n\u001b[1;32m     89\u001b[0m         \u001b[0mself\u001b[0m\u001b[0;34m.\u001b[0m\u001b[0mset_hatch\u001b[0m\u001b[0;34m(\u001b[0m\u001b[0mhatch\u001b[0m\u001b[0;34m)\u001b[0m\u001b[0;34m\u001b[0m\u001b[0;34m\u001b[0m\u001b[0m\n",
      "\u001b[0;32m/anaconda3/lib/python3.7/site-packages/matplotlib/patches.py\u001b[0m in \u001b[0;36mset_linewidth\u001b[0;34m(self, w)\u001b[0m\n\u001b[1;32m    346\u001b[0m                 \u001b[0mw\u001b[0m \u001b[0;34m=\u001b[0m \u001b[0mmpl\u001b[0m\u001b[0;34m.\u001b[0m\u001b[0mrcParams\u001b[0m\u001b[0;34m[\u001b[0m\u001b[0;34m'axes.linewidth'\u001b[0m\u001b[0;34m]\u001b[0m\u001b[0;34m\u001b[0m\u001b[0;34m\u001b[0m\u001b[0m\n\u001b[1;32m    347\u001b[0m \u001b[0;34m\u001b[0m\u001b[0m\n\u001b[0;32m--> 348\u001b[0;31m         \u001b[0mself\u001b[0m\u001b[0;34m.\u001b[0m\u001b[0m_linewidth\u001b[0m \u001b[0;34m=\u001b[0m \u001b[0mfloat\u001b[0m\u001b[0;34m(\u001b[0m\u001b[0mw\u001b[0m\u001b[0;34m)\u001b[0m\u001b[0;34m\u001b[0m\u001b[0;34m\u001b[0m\u001b[0m\n\u001b[0m\u001b[1;32m    349\u001b[0m         \u001b[0;31m# scale the dash pattern by the linewidth\u001b[0m\u001b[0;34m\u001b[0m\u001b[0;34m\u001b[0m\u001b[0;34m\u001b[0m\u001b[0m\n\u001b[1;32m    350\u001b[0m         \u001b[0moffset\u001b[0m\u001b[0;34m,\u001b[0m \u001b[0mls\u001b[0m \u001b[0;34m=\u001b[0m \u001b[0mself\u001b[0m\u001b[0;34m.\u001b[0m\u001b[0m_us_dashes\u001b[0m\u001b[0;34m\u001b[0m\u001b[0;34m\u001b[0m\u001b[0m\n",
      "\u001b[0;31mTypeError\u001b[0m: only size-1 arrays can be converted to Python scalars"
     ]
    },
    {
     "data": {
      "image/png": "[encoded data removed]",
      "text/plain": [
       "<Figure size 1440x720 with 1 Axes>"
      ]
     },
     "metadata": {
      "needs_background": "light"
     },
     "output_type": "display_data"
    }
   ],
   "source": [
    "new_figure = plt.figure(figsize=(20,10))\n",
    "ax = new_figure.add_subplot(111)\n",
    "ax.bar(x_ps, y_ps)\n",
    "ax.set_xlabel('year', size=25)\n",
    "ax.set_ylabel('rating', size=25)\n",
    "ax.set_title('Average rating of the top game by year', size=25)"
   ]
  },
  {
   "cell_type": "code",
   "execution_count": null,
   "metadata": {},
   "outputs": [],
   "source": []
  },
  {
   "cell_type": "code",
   "execution_count": null,
   "metadata": {},
   "outputs": [],
   "source": []
  },
  {
   "cell_type": "code",
   "execution_count": null,
   "metadata": {},
   "outputs": [],
   "source": []
  }
 ],
 "metadata": {
  "kernelspec": {
   "display_name": "Python 3",
   "language": "python",
   "name": "python3"
  },
  "language_info": {
   "codemirror_mode": {
    "name": "ipython",
    "version": 3
   },
   "file_extension": ".py",
   "mimetype": "text/x-python",
   "name": "python",
   "nbconvert_exporter": "python",
   "pygments_lexer": "ipython3",
   "version": "3.7.1"
  }
 },
 "nbformat": 4,
 "nbformat_minor": 2
}
