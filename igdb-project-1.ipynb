{
 "cells": [
  {
   "cell_type": "code",
   "execution_count": 108,
   "metadata": {},
   "outputs": [],
   "source": [
    "import requests\n",
    "import re\n",
    "import pandas as pd\n",
    "import matplotlib.pyplot as plt\n",
    "from datetime import datetime"
   ]
  },
  {
   "cell_type": "code",
   "execution_count": 109,
   "metadata": {
    "scrolled": true
   },
   "outputs": [],
   "source": [
    "file = open('./.env')\n",
    "api = file.read()"
   ]
  },
  {
   "cell_type": "code",
   "execution_count": 153,
   "metadata": {},
   "outputs": [],
   "source": [
    "def search_igdb(n): \n",
    "  \n",
    "    #set up an empty list to append each API call\n",
    "    output = []\n",
    "    url = 'https://api-v3.igdb.com/games/?limit=50'\n",
    "    #establish URL and api_key\n",
    "    headers = {\n",
    "    'user-key': api,\n",
    "    'accept': 'application/json'\n",
    "     }\n",
    "    #loops through a list of n length and updates offset after each call\n",
    "    for i in list(range(n)): \n",
    "        offset = 0\n",
    "        offset += 50*i \n",
    "        url_params = {\n",
    "            'fields':'name, total_rating_count, total_rating, rating_count, rating, popularity, aggregated_rating, aggregated_rating_count, themes, platforms, first_release_date, player_perspectives, hypes, game_modes, game_engines, genres', \n",
    "            #'filter[release_dates.platform][any]': '48,49,6',\n",
    "            'filter[total_rating_count][gte]': '150',\n",
    "            'filter[rating_count][gte]': '100',\n",
    "            'filter[aggregated_rating_count][gte]': '10',\n",
    "            'offset': offset\n",
    "      \n",
    "      \n",
    "      \n",
    "    #         'filter'= filter[release_dates.platform][any] = 48,49,6\n",
    "    #         'filter'= filter[total_rating_count][gte] = 1\n",
    "          }\n",
    "        #fields=*&filter[release_dates.platform][any]=48,49,6\n",
    "    \n",
    "    \n",
    "        response = requests.get(url, headers=headers, params=url_params)\n",
    "        #run our request get requests\n",
    "    \n",
    "  \n",
    "    \n",
    "        list(filter(lambda x: output.append(x), response.json()))\n",
    "     #and \n",
    "  \n",
    "    return output"
   ]
  },
  {
   "cell_type": "code",
   "execution_count": 154,
   "metadata": {},
   "outputs": [],
   "source": [
    "video_games = search_igdb(4)\n",
    "df = pd.DataFrame(video_games)"
   ]
  },
  {
   "cell_type": "code",
   "execution_count": 155,
   "metadata": {},
   "outputs": [],
   "source": [
    "# # sort the games by the highest rating \n",
    "# df = df.sort_values('total_rating', ascending=False)"
   ]
  },
  {
   "cell_type": "code",
   "execution_count": 156,
   "metadata": {},
   "outputs": [],
   "source": [
    "# # change the index of the DataFrame to the name of the game\n",
    "# df = df.set_index('name')"
   ]
  },
  {
   "cell_type": "code",
   "execution_count": 157,
   "metadata": {},
   "outputs": [],
   "source": [
    "# drop the column with the game 'IDs'\n",
    "df = df.drop(['id'], axis=1)"
   ]
  },
  {
   "cell_type": "code",
   "execution_count": 158,
   "metadata": {},
   "outputs": [],
   "source": [
    "# changing column names\n",
    "df = df.rename(columns={'aggregated_rating':'critic_review_rating'})\n",
    "df = df.rename(columns={'aggregated_rating_count':'critic_review_count'})\n",
    "df = df.rename(columns={'first_release_date':'release_date'})\n",
    "df = df.rename(columns={'rating':'player_review_rating'})\n",
    "df = df.rename(columns={'rating_count':'player_review_rating_count'})\n",
    "df = df.rename(columns={'total_rating':'total_review_rating'})\n",
    "df = df.rename(columns={'total_rating_count':'total_review_rating_count'})"
   ]
  },
  {
   "cell_type": "code",
   "execution_count": 159,
   "metadata": {},
   "outputs": [],
   "source": [
    "# replace the values in our two rows with \n",
    "for row in df.loc[df.themes.isnull(), 'themes'].index: \n",
    "    df.at[row, 'themes'] = [] \n",
    "        \n",
    "for row in df.loc[df.player_perspectives.isnull(), 'player_perspectives'].index: \n",
    "    df.at[row, 'player_perspectives'] = [] \n",
    "    \n"
   ]
  },
  {
   "cell_type": "code",
   "execution_count": 160,
   "metadata": {},
   "outputs": [],
   "source": [
    "df = df.fillna(' ')"
   ]
  },
  {
   "cell_type": "code",
   "execution_count": 161,
   "metadata": {},
   "outputs": [],
   "source": [
    "# getting codes for each column \n",
    "\n",
    "platforms_codes = list(df['platforms'])\n",
    "game_engines_codes = list(df['game_engines'])\n",
    "player_perspectives_codes = list(df['player_perspectives'])\n",
    "game_modes_codes = list(df['game_modes'])\n",
    "themes_codes = list(df['themes'])\n",
    "\n",
    "def unique_column_set(column):\n",
    "    unique_letters = [] \n",
    "    for letters in column:\n",
    "        for letter in letters:\n",
    "            if letters != '':\n",
    "                unique_letters.append(letter)\n",
    "    return set(unique_letters)\n",
    "\n",
    "unique_platforms_codes = unique_column_set(platforms_codes)\n",
    "unique_game_engines_codes = unique_column_set(game_engines_codes)\n",
    "unique_player_perspectives_codes = unique_column_set(player_perspectives_codes)\n",
    "unique_game_modes_codes = unique_column_set(game_modes_codes)\n",
    "unique_themes_codes = unique_column_set(themes_codes)"
   ]
  },
  {
   "cell_type": "code",
   "execution_count": 162,
   "metadata": {},
   "outputs": [],
   "source": [
    "# getting all the values for release_dates in a unique set\n",
    "\n",
    "unix_codes = list(df['release_date'])\n",
    "\n",
    "def unique_release_set(lst):\n",
    "    unique_dates = [] \n",
    "    for date in lst:\n",
    "                unique_dates.append(date)\n",
    "    return set(unique_dates)\n",
    "\n",
    "unique_release_codes = unique_release_set(unix_codes)"
   ]
  },
  {
   "cell_type": "code",
   "execution_count": 163,
   "metadata": {},
   "outputs": [],
   "source": [
    "# converting epoch to human readable date\n",
    "df['release_date'] = pd.to_datetime(df['release_date'], unit='s')"
   ]
  },
  {
   "cell_type": "code",
   "execution_count": 164,
   "metadata": {},
   "outputs": [],
   "source": [
    "# creating a new column called year which displays just the year the game released in standart date time\n",
    "df['release_year'] = df['release_date'].dt.year"
   ]
  },
  {
   "cell_type": "code",
   "execution_count": 165,
   "metadata": {
    "scrolled": false
   },
   "outputs": [],
   "source": [
    "# round off the digits by 2 decimal places\n",
    "df['critic_review_rating']= round(df['critic_review_rating'], 2)\n",
    "df['popularity']= round(df['popularity'], 2)\n",
    "df['player_review_rating']= round(df['player_review_rating'], 2)\n",
    "df['player_review_rating_count']= round(df['player_review_rating_count'], 2)\n",
    "df['total_review_rating']= round(df['total_review_rating'], 2)"
   ]
  },
  {
   "cell_type": "code",
   "execution_count": 166,
   "metadata": {},
   "outputs": [],
   "source": [
    "# created dictionary with keys as game_mode and values as the corresponding ID\n",
    "game_modes = {'Single Player':1, \n",
    "              'Multiplayer':2 , \n",
    "              'Co-operative':3, \n",
    "              'Split Screen':4, \n",
    "              'Massively Multiplayer Online':5}  "
   ]
  },
  {
   "cell_type": "code",
   "execution_count": 167,
   "metadata": {},
   "outputs": [],
   "source": [
    "#goes through our series function game_modes and creates a new set of columns that passes a boolean True if that game supports that game mode\n",
    "for game_mode in game_modes.keys():\n",
    "    df[game_mode] = df.game_modes.apply(lambda mode_list: game_modes[game_mode] in mode_list)"
   ]
  },
  {
   "cell_type": "code",
   "execution_count": 168,
   "metadata": {},
   "outputs": [],
   "source": [
    "#goes through our series function game_modes and creates a new set of columns that passes a boolean True if that game supports that game mode\n",
    "for game_mode in game_modes.keys():\n",
    "    df[game_mode] = df.game_modes.apply(lambda mode_list: game_modes[game_mode] in mode_list)"
   ]
  },
  {
   "cell_type": "code",
   "execution_count": 169,
   "metadata": {},
   "outputs": [],
   "source": [
    "#created dictionary with keys as platform and values as corresponding ID for each platform\n",
    "platforms = {'Linux': 3,\n",
    "'Wii': 5 ,\n",
    "'PC': 6,\n",
    "'PS3': 9,\n",
    "'Xbox': 11,\n",
    "'Xbox 360':12,\n",
    "'Mac': 14,\n",
    "'Nintendo DS':20,\n",
    "'Android':34,\n",
    "'Xbox Live Arcade':36,\n",
    "'Nintendo 3DS': 37,\n",
    "'iOS':39,\n",
    "'Wii U':41,\n",
    "'PlayStation Network':45,\n",
    "'PlayStation Vita':46,\n",
    "'PS4':48,\n",
    "'Xbox One':49,\n",
    "'Arcade':52,\n",
    "'Ouya':72,\n",
    "'Windows Phone':74,\n",
    "'SteamOS':92,\n",
    "'Nintendo Switch':130,\n",
    "'Nintendo DSi':159}"
   ]
  },
  {
   "cell_type": "code",
   "execution_count": 170,
   "metadata": {},
   "outputs": [],
   "source": [
    "#goes through each list in the platform column and creates a dummy variable for each platform type and adds a boolean expression if the game in question is offered on that platform\n",
    "for platform in platforms.keys():\n",
    "    df[platform] = df.platforms.apply(lambda plat_list: platforms[platform] in plat_list) "
   ]
  },
  {
   "cell_type": "code",
   "execution_count": 171,
   "metadata": {},
   "outputs": [],
   "source": [
    "themes = {'Action':1,\n",
    "    'Fantasy': 17,\n",
    "    'Science-Fiction': 18,\n",
    "    'Horror': 19,\n",
    "    'Thriller': 20,\n",
    "    'Survival': 21,\n",
    "    'Historical': 22,\n",
    "    'Stealth': 23,\n",
    "    'Comedy': 27,\n",
    "    'Business': 28,\n",
    "    'Drama': 31,\n",
    "    'Non-Fiction': 32,\n",
    "    'Sandbox': 33,\n",
    "    'Educational': 34,\n",
    "    'Kids': 35,\n",
    "    'Open-world': 38,\n",
    "    'Warfare': 39,\n",
    "    'Erotic': 42,\n",
    "    'Mystery': 43 }"
   ]
  },
  {
   "cell_type": "code",
   "execution_count": 172,
   "metadata": {},
   "outputs": [],
   "source": [
    "#perform the repeated for loop on the them column and then drop the theme column\n",
    "for theme in themes.keys():\n",
    "    df[theme] = df.themes.apply(lambda theme_list: themes[theme] in theme_list)"
   ]
  },
  {
   "cell_type": "code",
   "execution_count": 173,
   "metadata": {},
   "outputs": [],
   "source": [
    "#repeat for player_perspectives\n",
    "player_perspectives = {'First-Person':1,\n",
    "    'Third-Person': 2,\n",
    "    'Bird-view': 3,\n",
    "    'Side-view': 4,\n",
    "    'Text': 5,\n",
    "    'Aural': 6,\n",
    "    'Virtual Reality': 7}"
   ]
  },
  {
   "cell_type": "code",
   "execution_count": 174,
   "metadata": {},
   "outputs": [],
   "source": [
    "for player_perspective in player_perspectives.keys():\n",
    "    df[player_perspective] = df.player_perspectives.apply(lambda pp_list: player_perspectives[player_perspective] in pp_list)"
   ]
  },
  {
   "cell_type": "code",
   "execution_count": 175,
   "metadata": {},
   "outputs": [],
   "source": [
    "#repeating the process for genres defining our dictionary\n",
    "genres = {'Simulator':13,\n",
    "'Tactical':24,\n",
    "'Quiz/Trivia':26,\n",
    "'Fighting':4,\n",
    "'Strategy':15,\n",
    "'Adventure':31,\n",
    "'Role-playing (RPG)':12,\n",
    "'Shooter':5,\n",
    "'Music':7,\n",
    "'Indie':32,\n",
    "'Turn-based strategy (TBS)':16,\n",
    "'Pinball':30,\n",
    "'Puzzle':9,\n",
    "'Real Time Strategy (RTS)':11,\n",
    "'Hack and slash/Beat ’em up':25,\n",
    "'Platform':8,\n",
    "'Racing':10,\n",
    "'Sport':14,\n",
    "'Arcade':33,\n",
    "'Point-and-click':2}"
   ]
  },
  {
   "cell_type": "code",
   "execution_count": 176,
   "metadata": {},
   "outputs": [],
   "source": [
    "for genre in genres.keys():\n",
    "    df[genre] = df.genres.apply(lambda genre_list: genres[genre] in genre_list)"
   ]
  },
  {
   "cell_type": "code",
   "execution_count": 177,
   "metadata": {},
   "outputs": [],
   "source": [
    "df = df.drop(['platforms'], axis=1) "
   ]
  },
  {
   "cell_type": "code",
   "execution_count": 178,
   "metadata": {},
   "outputs": [],
   "source": [
    "df = df.drop(['genres'], axis=1) "
   ]
  },
  {
   "cell_type": "code",
   "execution_count": 179,
   "metadata": {},
   "outputs": [],
   "source": [
    "df = df.drop(['game_modes'], axis=1)"
   ]
  },
  {
   "cell_type": "code",
   "execution_count": 180,
   "metadata": {},
   "outputs": [],
   "source": [
    "df = df.drop(['player_perspectives'], axis=1)"
   ]
  },
  {
   "cell_type": "code",
   "execution_count": 181,
   "metadata": {},
   "outputs": [],
   "source": [
    "df = df.drop(['themes'], axis=1)"
   ]
  },
  {
   "cell_type": "code",
   "execution_count": 182,
   "metadata": {},
   "outputs": [],
   "source": [
    "# change order of our data frame\n",
    "# df = df[['name','','','']]"
   ]
  },
  {
   "cell_type": "code",
   "execution_count": 186,
   "metadata": {},
   "outputs": [
    {
     "data": {
      "text/html": [
       "<div>\n",
       "<style scoped>\n",
       "    .dataframe tbody tr th:only-of-type {\n",
       "        vertical-align: middle;\n",
       "    }\n",
       "\n",
       "    .dataframe tbody tr th {\n",
       "        vertical-align: top;\n",
       "    }\n",
       "\n",
       "    .dataframe thead th {\n",
       "        text-align: right;\n",
       "    }\n",
       "</style>\n",
       "<table border=\"1\" class=\"dataframe\">\n",
       "  <thead>\n",
       "    <tr style=\"text-align: right;\">\n",
       "      <th></th>\n",
       "      <th>critic_review_rating</th>\n",
       "      <th>critic_review_count</th>\n",
       "      <th>release_date</th>\n",
       "      <th>game_engines</th>\n",
       "      <th>hypes</th>\n",
       "      <th>name</th>\n",
       "      <th>popularity</th>\n",
       "      <th>player_review_rating</th>\n",
       "      <th>player_review_rating_count</th>\n",
       "      <th>total_review_rating</th>\n",
       "      <th>...</th>\n",
       "      <th>Indie</th>\n",
       "      <th>Turn-based strategy (TBS)</th>\n",
       "      <th>Pinball</th>\n",
       "      <th>Puzzle</th>\n",
       "      <th>Real Time Strategy (RTS)</th>\n",
       "      <th>Hack and slash/Beat ’em up</th>\n",
       "      <th>Platform</th>\n",
       "      <th>Racing</th>\n",
       "      <th>Sport</th>\n",
       "      <th>Point-and-click</th>\n",
       "    </tr>\n",
       "  </thead>\n",
       "  <tbody>\n",
       "    <tr>\n",
       "      <th>0</th>\n",
       "      <td>87.94</td>\n",
       "      <td>19</td>\n",
       "      <td>2014-11-18</td>\n",
       "      <td>[491]</td>\n",
       "      <td>9</td>\n",
       "      <td>Dragon Age: Inquisition</td>\n",
       "      <td>47.65</td>\n",
       "      <td>84.6</td>\n",
       "      <td>487</td>\n",
       "      <td>86.27</td>\n",
       "      <td>...</td>\n",
       "      <td>False</td>\n",
       "      <td>False</td>\n",
       "      <td>False</td>\n",
       "      <td>False</td>\n",
       "      <td>False</td>\n",
       "      <td>False</td>\n",
       "      <td>False</td>\n",
       "      <td>False</td>\n",
       "      <td>False</td>\n",
       "      <td>False</td>\n",
       "    </tr>\n",
       "  </tbody>\n",
       "</table>\n",
       "<p>1 rows × 85 columns</p>\n",
       "</div>"
      ],
      "text/plain": [
       "   critic_review_rating  critic_review_count release_date game_engines hypes  \\\n",
       "0                 87.94                   19   2014-11-18        [491]     9   \n",
       "\n",
       "                      name  popularity  player_review_rating  \\\n",
       "0  Dragon Age: Inquisition       47.65                  84.6   \n",
       "\n",
       "   player_review_rating_count  total_review_rating       ...         Indie  \\\n",
       "0                         487                86.27       ...         False   \n",
       "\n",
       "   Turn-based strategy (TBS)  Pinball  Puzzle  Real Time Strategy (RTS)  \\\n",
       "0                      False    False   False                     False   \n",
       "\n",
       "   Hack and slash/Beat ’em up  Platform  Racing  Sport  Point-and-click  \n",
       "0                       False     False   False  False            False  \n",
       "\n",
       "[1 rows x 85 columns]"
      ]
     },
     "execution_count": 186,
     "metadata": {},
     "output_type": "execute_result"
    }
   ],
   "source": [
    "df.head(1)"
   ]
  },
  {
   "cell_type": "markdown",
   "metadata": {},
   "source": [
    "# Did video games get better or worse overtime?"
   ]
  },
  {
   "cell_type": "code",
   "execution_count": 183,
   "metadata": {},
   "outputs": [],
   "source": [
    "# mean values for all columns by release_year\n",
    "release_year_mean = df.groupby(['release_year']).mean()"
   ]
  },
  {
   "cell_type": "code",
   "execution_count": 184,
   "metadata": {},
   "outputs": [
    {
     "data": {
      "text/plain": [
       "Text(0.5, 1.0, 'Average rating of the top game by year')"
      ]
     },
     "execution_count": 184,
     "metadata": {},
     "output_type": "execute_result"
    },
    {
     "data": {
      "image/png": "[encoded data removed]",
      "text/plain": [
       "<Figure size 1440x720 with 1 Axes>"
      ]
     },
     "metadata": {
      "needs_background": "light"
     },
     "output_type": "display_data"
    }
   ],
   "source": [
    "new_figure = plt.figure(figsize=(20,10))\n",
    "ax = new_figure.add_subplot(111)\n",
    "ax.scatter(release_year_mean.index , release_year_mean.total_review_rating)\n",
    "ax.set_xlabel('year', size=25)\n",
    "ax.set_ylabel('rating', size=25)\n",
    "ax.set_title('Average rating of the top game by year', size=25)"
   ]
  },
  {
   "cell_type": "code",
   "execution_count": null,
   "metadata": {},
   "outputs": [],
   "source": []
  }
 ],
 "metadata": {
  "kernelspec": {
   "display_name": "Python 3",
   "language": "python",
   "name": "python3"
  },
  "language_info": {
   "codemirror_mode": {
    "name": "ipython",
    "version": 3
   },
   "file_extension": ".py",
   "mimetype": "text/x-python",
   "name": "python",
   "nbconvert_exporter": "python",
   "pygments_lexer": "ipython3",
   "version": "3.7.1"
  }
 },
 "nbformat": 4,
 "nbformat_minor": 2
}
